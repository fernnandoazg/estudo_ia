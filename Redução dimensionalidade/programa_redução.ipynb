{
 "cells": [
  {
   "cell_type": "code",
   "execution_count": null,
   "metadata": {
    "vscode": {
     "languageId": "plaintext"
    }
   },
   "outputs": [],
   "source": [
    "import numpy as np\n",
    "from PIL import Image\n",
    "\n",
    "def rgb_to_gray(image):\n",
    "    \n",
    "    Redução imagem colorida em tons de cinza.\n",
    "\n",
    "    Args:\n",
    "    image (numpy.ndarray): Imagem colorida (array numpy).\n",
    "\n",
    "    Returns:\n",
    "    numpy.ndarray: Imagem em tons de cinza.\n",
    "    \n",
    "    # Extrai os canais de cor da imagem\n",
    "    r, g, b = image[:,:,0], image[:,:,1], image[:,:,2]\n",
    "    \n",
    "    # Converte para tons de cinza usando a fórmula padrão\n",
    "    gray = 0.2989 * r + 0.5870 * g + 0.1140 * b\n",
    "    \n",
    "    return gray.astype(np.uint8)\n",
    "\n",
    "def binarize_image(image, threshold=128):\n",
    "    \n",
    "    Binariza uma imagem em tons de cinza.\n",
    "\n",
    "    Args:\n",
    "    image (numpy.ndarray): Imagem em tons de cinza (array numpy).\n",
    "    threshold (int): Limiar para binarização (0 a 255).\n",
    "\n",
    "    Returns:\n",
    "    numpy.ndarray: Imagem binarizada.\n",
    "    \n",
    "    binary_image = np.where(image >= threshold, 255, 0)\n",
    "    return binary_image.astype(np.uint8)\n",
    "\n",
    "# Carrega a imagem\n",
    "image_path = \"teste.jpeg\"\n",
    "original_image = np.array(Image.open(image_path))\n",
    "\n",
    "# Converte a imagem para tons de cinza\n",
    "gray_image = rgb_to_gray(original_image)\n",
    "\n",
    "# Binariza a imagem\n",
    "binary_threshold = 128  # Limiar para binarização\n",
    "binary_image = binarize_image(gray_image, threshold=binary_threshold)\n",
    "\n",
    "# Salva as imagens\n",
    "gray_image_pil = Image.fromarray(gray_image)\n",
    "gray_image_pil.save(\"gray_teste.jpeg\")\n",
    "\n",
    "binary_image_pil = Image.fromarray(binary_image)\n",
    "binary_image_pil.save(\"binary_teste.jpeg\")\n",
    "\n",
    "print(\"Imagens salvas com sucesso!\")"
   ]
  },
  {
   "cell_type": "code",
   "execution_count": null,
   "metadata": {
    "vscode": {
     "languageId": "plaintext"
    }
   },
   "outputs": [],
   "source": [
    "import matplotlib.pyplot as plt\n",
    "\n",
    "# Visualiza as imagens\n",
    "plt.figure(figsize=(10, 5))\n",
    "\n",
    "plt.subplot(1, 3, 1)\n",
    "plt.imshow(original_image)\n",
    "plt.title(\"Imagem Original\")\n",
    "plt.axis('off')\n",
    "\n",
    "plt.subplot(1, 3, 2)\n",
    "plt.imshow(gray_image, cmap='gray')\n",
    "plt.title(\"Imagem em Tons de Cinza\")\n",
    "plt.axis('off')\n",
    "\n",
    "plt.subplot(1, 3, 3)\n",
    "plt.imshow(binary_image, cmap='gray')\n",
    "plt.title(\"Imagem Binarizada\")\n",
    "plt.axis('off')\n",
    "\n",
    "plt.show()\n"
   ]
  }
 ],
 "metadata": {
  "language_info": {
   "name": "python"
  }
 },
 "nbformat": 4,
 "nbformat_minor": 2
}
